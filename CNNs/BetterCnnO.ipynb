{
  "nbformat": 4,
  "nbformat_minor": 0,
  "metadata": {
    "colab": {
      "provenance": []
    },
    "kernelspec": {
      "name": "python3",
      "display_name": "Python 3"
    },
    "language_info": {
      "name": "python"
    },
    "accelerator": "GPU",
    "gpuClass": "standard"
  },
  "cells": [
    {
      "cell_type": "code",
      "execution_count": null,
      "metadata": {
        "colab": {
          "base_uri": "https://localhost:8080/"
        },
        "id": "meJZqQe0yYtV",
        "outputId": "cdf836db-d636-4912-a40d-e802083fdf3d"
      },
      "outputs": [
        {
          "output_type": "stream",
          "name": "stdout",
          "text": [
            "Mounted at /content/drive\n"
          ]
        }
      ],
      "source": [
        "from google.colab import drive\n",
        "drive.mount('/content/drive')"
      ]
    },
    {
      "cell_type": "code",
      "source": [
        "import pandas as pd\n",
        "import numpy as np\n",
        "import tensorflow as tf\n",
        "from tensorflow.keras import datasets, layers, models\n",
        "from keras.layers.core import Activation\n",
        "from keras.layers import Concatenate,MaxPool2D\n",
        "from keras.optimizers import Adam\n",
        "import os\n",
        "import cv2\n",
        "import keras\n",
        "from  matplotlib import pyplot as plt\n",
        "import matplotlib.image as mpimg\n",
        "%matplotlib inline\n",
        "import random\n",
        "from tensorflow.keras.preprocessing.image import ImageDataGenerator\n",
        "from keras.callbacks import ModelCheckpoint, EarlyStopping\n",
        "from sklearn.metrics import f1_score\n",
        "import sklearn\n",
        "from sklearn.metrics import confusion_matrix, plot_confusion_matrix"
      ],
      "metadata": {
        "id": "gQm3jCgXymZp"
      },
      "execution_count": null,
      "outputs": []
    },
    {
      "cell_type": "code",
      "source": [
        "CLASSES = ['pink primrose',    'hard-leaved pocket orchid', 'canterbury bells', 'sweet pea',     'wild geranium',     'tiger lily',           'moon orchid',              'bird of paradise', 'monkshood',        'globe thistle',         # 00 - 09\n",
        "           'snapdragon',       \"colt's foot\",               'king protea',      'spear thistle', 'yellow iris',       'globe-flower',         'purple coneflower',        'peruvian lily',    'balloon flower',   'giant white arum lily', # 10 - 19\n",
        "           'fire lily',        'pincushion flower',         'fritillary',       'red ginger',    'grape hyacinth',    'corn poppy',           'prince of wales feathers', 'stemless gentian', 'artichoke',        'sweet william',         # 20 - 29\n",
        "           'carnation',        'garden phlox',              'love in the mist', 'cosmos',        'alpine sea holly',  'ruby-lipped cattleya', 'cape flower',              'great masterwort', 'siam tulip',       'lenten rose',           # 30 - 39\n",
        "           'barberton daisy',  'daffodil',                  'sword lily',       'poinsettia',    'bolero deep blue',  'wallflower',           'marigold',                 'buttercup',        'daisy',            'common dandelion',      # 40 - 49\n",
        "           'petunia',          'wild pansy',                'primula',          'sunflower',     'lilac hibiscus',    'bishop of llandaff',   'gaura',                    'geranium',         'orange dahlia',    'pink-yellow dahlia',    # 50 - 59\n",
        "           'cautleya spicata', 'japanese anemone',          'black-eyed susan', 'silverbush',    'californian poppy', 'osteospermum',         'spring crocus',            'iris',             'windflower',       'tree poppy',            # 60 - 69\n",
        "           'gazania',          'azalea',                    'water lily',       'rose',          'thorn apple',       'morning glory',        'passion flower',           'lotus',            'toad lily',        'anthurium',             # 70 - 79\n",
        "           'frangipani',       'clematis',                  'hibiscus',         'columbine',     'desert-rose',       'tree mallow',          'magnolia',                 'cyclamen ',        'watercress',       'canna lily',            # 80 - 89\n",
        "           'hippeastrum ',     'bee balm',                  'pink quill',       'foxglove',      'bougainvillea',     'camellia',             'mallow',                   'mexican petunia',  'bromelia',         'blanket flower',        # 90 - 99\n",
        "           'trumpet creeper',  'blackberry lily',           'common tulip',     'wild rose']\n",
        "target_dict={k: v for v, k in enumerate(CLASSES)}\n",
        "target_dict\n",
        "target_val=  [target_dict[CLASSES[i]] for i in range(len(CLASSES))]"
      ],
      "metadata": {
        "id": "B5lcTFq7ynZD"
      },
      "execution_count": null,
      "outputs": []
    },
    {
      "cell_type": "code",
      "source": [
        "my_generator= ImageDataGenerator(rescale=1./255, validation_split=0.2) #rescaled the images\n",
        "my_image_generator_train = my_generator.flow_from_directory('/content/drive/MyDrive/Data/train', #this is the image generator next we need to read the data from it\n",
        "        target_size=(150, 150),\n",
        "        batch_size=32,\n",
        "        class_mode='sparse',\n",
        "        subset=\"training\") #does not fully load the data into the memory instead it created a channel  \n",
        "validation_image_generator= my_generator.flow_from_directory('/content/drive/MyDrive/Data/train',\n",
        "        target_size=(150, 150),\n",
        "        batch_size=32,\n",
        "        subset=\"validation\",\n",
        "        class_mode='sparse' )\n",
        "test = my_generator.flow_from_directory(\n",
        "        directory='/content/drive/MyDrive/Data/test',\n",
        "        target_size=(150, 150),\n",
        "        class_mode='sparse')"
      ],
      "metadata": {
        "colab": {
          "base_uri": "https://localhost:8080/"
        },
        "id": "7DwjK83wypoN",
        "outputId": "e7c20255-e17d-4b61-e70b-3deae4fdf0f6"
      },
      "execution_count": null,
      "outputs": [
        {
          "output_type": "stream",
          "name": "stdout",
          "text": [
            "Found 10243 images belonging to 104 classes.\n",
            "Found 2510 images belonging to 104 classes.\n",
            "Found 3712 images belonging to 104 classes.\n"
          ]
        }
      ]
    },
    {
      "cell_type": "code",
      "source": [
        "model = models.Sequential()\n",
        "model.add(layers.Conv2D(filters=32,kernel_size=(3,3),activation='relu',input_shape=(150,150,3)))\n",
        "model.add(layers.MaxPool2D(pool_size=(2,2)))\n",
        "model.add(layers.Dropout(rate=0.3))\n",
        "model.add(layers.Flatten())\n",
        "model.add(layers.Dense(units=32,activation='relu'))\n",
        "model.add(layers.Dropout(0.3))\n",
        "model.add(layers.Dense(units=104,activation='softmax'))"
      ],
      "metadata": {
        "id": "u2QF0mPAysRF"
      },
      "execution_count": null,
      "outputs": []
    },
    {
      "cell_type": "code",
      "source": [
        "model.summary()"
      ],
      "metadata": {
        "id": "E1lP2cCEyyCO",
        "colab": {
          "base_uri": "https://localhost:8080/"
        },
        "outputId": "2a89d831-2ffa-4f3b-d2ce-72ca17a5d9b1"
      },
      "execution_count": null,
      "outputs": [
        {
          "output_type": "stream",
          "name": "stdout",
          "text": [
            "Model: \"sequential\"\n",
            "_________________________________________________________________\n",
            " Layer (type)                Output Shape              Param #   \n",
            "=================================================================\n",
            " conv2d (Conv2D)             (None, 148, 148, 32)      896       \n",
            "                                                                 \n",
            " max_pooling2d (MaxPooling2D  (None, 74, 74, 32)       0         \n",
            " )                                                               \n",
            "                                                                 \n",
            " dropout (Dropout)           (None, 74, 74, 32)        0         \n",
            "                                                                 \n",
            " flatten (Flatten)           (None, 175232)            0         \n",
            "                                                                 \n",
            " dense (Dense)               (None, 32)                5607456   \n",
            "                                                                 \n",
            " dropout_1 (Dropout)         (None, 32)                0         \n",
            "                                                                 \n",
            " dense_1 (Dense)             (None, 104)               3432      \n",
            "                                                                 \n",
            "=================================================================\n",
            "Total params: 5,611,784\n",
            "Trainable params: 5,611,784\n",
            "Non-trainable params: 0\n",
            "_________________________________________________________________\n"
          ]
        }
      ]
    },
    {
      "cell_type": "code",
      "source": [
        "opti=Adam(0.0001)\n",
        "model.compile(optimizer=opti,loss=tf.keras.losses.SparseCategoricalCrossentropy(from_logits=True),metrics=['accuracy'])\n",
        "\n",
        "#checkpoint = ModelCheckpoint(\"f/content/drive/MyDrive/CNN_1.h5\", monitor='loss', verbose=1, save_best_only=True, save_weights_only=False, mode='auto', period=1)\n",
        "early = EarlyStopping(monitor='loss', min_delta=0, patience=10, verbose=1, mode='auto')\n",
        "\n",
        "hist = model.fit(my_image_generator_train , validation_data= validation_image_generator, epochs=20, callbacks=early)"
      ],
      "metadata": {
        "id": "c08AunK0yyEC",
        "colab": {
          "base_uri": "https://localhost:8080/"
        },
        "outputId": "cff787e6-5013-4d37-b5cb-b1d19ab7d000"
      },
      "execution_count": null,
      "outputs": [
        {
          "output_type": "stream",
          "name": "stdout",
          "text": [
            "Epoch 1/20\n"
          ]
        },
        {
          "output_type": "stream",
          "name": "stderr",
          "text": [
            "/usr/local/lib/python3.7/dist-packages/tensorflow/python/util/dispatch.py:1082: UserWarning: \"`sparse_categorical_crossentropy` received `from_logits=True`, but the `output` argument was produced by a sigmoid or softmax activation and thus does not represent logits. Was this intended?\"\n",
            "  return dispatch_target(*args, **kwargs)\n"
          ]
        },
        {
          "output_type": "stream",
          "name": "stdout",
          "text": [
            "321/321 [==============================] - 1785s 6s/step - loss: 4.5331 - accuracy: 0.0356 - val_loss: 4.4229 - val_accuracy: 0.0474\n",
            "Epoch 2/20\n",
            "321/321 [==============================] - 47s 146ms/step - loss: 4.4111 - accuracy: 0.0505 - val_loss: 4.3068 - val_accuracy: 0.0865\n",
            "Epoch 3/20\n",
            "321/321 [==============================] - 46s 145ms/step - loss: 4.2996 - accuracy: 0.0589 - val_loss: 4.1847 - val_accuracy: 0.0849\n",
            "Epoch 4/20\n",
            "321/321 [==============================] - 46s 145ms/step - loss: 4.2241 - accuracy: 0.0618 - val_loss: 4.1175 - val_accuracy: 0.0845\n",
            "Epoch 5/20\n",
            "321/321 [==============================] - 45s 141ms/step - loss: 4.1608 - accuracy: 0.0637 - val_loss: 4.0636 - val_accuracy: 0.0861\n",
            "Epoch 6/20\n",
            "321/321 [==============================] - 47s 145ms/step - loss: 4.0979 - accuracy: 0.0661 - val_loss: 4.0144 - val_accuracy: 0.0849\n",
            "Epoch 7/20\n",
            "321/321 [==============================] - 46s 143ms/step - loss: 4.0590 - accuracy: 0.0688 - val_loss: 3.9888 - val_accuracy: 0.0888\n",
            "Epoch 8/20\n",
            "321/321 [==============================] - 46s 142ms/step - loss: 4.0227 - accuracy: 0.0754 - val_loss: 3.9449 - val_accuracy: 0.0948\n",
            "Epoch 9/20\n",
            "321/321 [==============================] - 46s 142ms/step - loss: 3.9843 - accuracy: 0.0768 - val_loss: 3.9005 - val_accuracy: 0.0936\n",
            "Epoch 10/20\n",
            "321/321 [==============================] - 45s 142ms/step - loss: 3.9596 - accuracy: 0.0778 - val_loss: 3.8959 - val_accuracy: 0.1036\n",
            "Epoch 11/20\n",
            "321/321 [==============================] - 45s 141ms/step - loss: 3.9457 - accuracy: 0.0862 - val_loss: 3.8738 - val_accuracy: 0.1124\n",
            "Epoch 12/20\n",
            "321/321 [==============================] - 44s 138ms/step - loss: 3.9134 - accuracy: 0.0967 - val_loss: 3.8548 - val_accuracy: 0.1096\n",
            "Epoch 13/20\n",
            "321/321 [==============================] - 45s 142ms/step - loss: 3.8978 - accuracy: 0.0898 - val_loss: 3.8383 - val_accuracy: 0.1191\n",
            "Epoch 14/20\n",
            "321/321 [==============================] - 45s 141ms/step - loss: 3.8658 - accuracy: 0.0959 - val_loss: 3.8312 - val_accuracy: 0.1187\n",
            "Epoch 15/20\n",
            "321/321 [==============================] - 45s 140ms/step - loss: 3.8602 - accuracy: 0.0949 - val_loss: 3.8184 - val_accuracy: 0.1199\n",
            "Epoch 16/20\n",
            "321/321 [==============================] - 44s 138ms/step - loss: 3.8281 - accuracy: 0.0975 - val_loss: 3.8235 - val_accuracy: 0.1231\n",
            "Epoch 17/20\n",
            "321/321 [==============================] - 45s 142ms/step - loss: 3.8215 - accuracy: 0.0970 - val_loss: 3.8065 - val_accuracy: 0.1271\n",
            "Epoch 18/20\n",
            "321/321 [==============================] - 44s 138ms/step - loss: 3.8007 - accuracy: 0.1045 - val_loss: 3.7999 - val_accuracy: 0.1235\n",
            "Epoch 19/20\n",
            "321/321 [==============================] - 46s 144ms/step - loss: 3.7804 - accuracy: 0.1002 - val_loss: 3.7763 - val_accuracy: 0.1211\n",
            "Epoch 20/20\n",
            "321/321 [==============================] - 46s 142ms/step - loss: 3.7456 - accuracy: 0.1076 - val_loss: 3.7659 - val_accuracy: 0.1259\n"
          ]
        }
      ]
    },
    {
      "cell_type": "code",
      "source": [
        "SimpleCnn= model.save('/content/drive/MyDrive/SimpleCNNBETTER')"
      ],
      "metadata": {
        "id": "A1BjC9XEOnIJ",
        "colab": {
          "base_uri": "https://localhost:8080/"
        },
        "outputId": "00fffe7b-568b-4f49-e07b-b21806f66af5"
      },
      "execution_count": null,
      "outputs": [
        {
          "output_type": "stream",
          "name": "stderr",
          "text": [
            "WARNING:absl:Found untraced functions such as _jit_compiled_convolution_op while saving (showing 1 of 1). These functions will not be directly callable after loading.\n"
          ]
        }
      ]
    },
    {
      "cell_type": "code",
      "source": [
        "score = model.evaluate(test, verbose=0)\n",
        "print('Test loss:', score[0])\n",
        "print('Test accuracy:', score[1])"
      ],
      "metadata": {
        "id": "L-RVXA_JOnBk",
        "colab": {
          "base_uri": "https://localhost:8080/"
        },
        "outputId": "8dab398a-f4ba-4eab-8690-d08dd17db446"
      },
      "execution_count": null,
      "outputs": [
        {
          "output_type": "stream",
          "name": "stdout",
          "text": [
            "Test loss: 3.7658066749572754\n",
            "Test accuracy: 0.12257543206214905\n"
          ]
        }
      ]
    },
    {
      "cell_type": "code",
      "source": [
        "# Generate predictions (probabilities -- the output of the last layer)\n",
        "# on new data using `predict`\n",
        "print(\"Generate predictions for 32 samples\")\n",
        "predictions = model.predict(test)\n",
        "print(\"predictions shape:\", predictions.shape)\n"
      ],
      "metadata": {
        "id": "h8rHrAFIOm41",
        "colab": {
          "base_uri": "https://localhost:8080/"
        },
        "outputId": "41df2f17-5f88-4daa-9199-8e81174d6591"
      },
      "execution_count": null,
      "outputs": [
        {
          "output_type": "stream",
          "name": "stdout",
          "text": [
            "Generate predictions for 32 samples\n",
            "116/116 [==============================] - 13s 110ms/step\n",
            "predictions shape: (3712, 104)\n"
          ]
        }
      ]
    },
    {
      "cell_type": "code",
      "source": [
        "plt.plot(hist.history['loss'])\n",
        "plt.plot(hist.history['val_loss'])\n",
        "plt.title(\"model accuracy\")\n",
        "plt.ylabel(\"loss\")\n",
        "plt.xlabel(\"Epoch\")\n",
        "plt.legend([\"Accuracy\",\"Validation Accuracy\",\"loss\",\"Validation Loss\"])\n",
        "plt.show()\n",
        "####################################\n",
        "plt.plot(hist.history[\"accuracy\"])\n",
        "plt.plot(hist.history['val_accuracy'])\n",
        "plt.plot(hist.history['loss'])\n",
        "plt.plot(hist.history['val_loss'])\n",
        "plt.title(\"model accuracy\")\n",
        "plt.ylabel(\"Accuracy\")\n",
        "plt.xlabel(\"Epoch\")\n",
        "plt.legend([\"Accuracy\",\"Validation Accuracy\",\"loss\",\"Validation Loss\"])\n",
        "plt.show()\n",
        "##############################\n",
        "plt.plot(hist.history[\"accuracy\"])\n",
        "plt.plot(hist.history['val_accuracy'])\n",
        "plt.title(\"model accuracy\")\n",
        "plt.ylabel(\"Accuracy\")\n",
        "plt.xlabel(\"Epoch\")\n",
        "plt.legend([\"Accuracy\",\"Validation Accuracy\"])\n",
        "plt.show()"
      ],
      "metadata": {
        "colab": {
          "base_uri": "https://localhost:8080/",
          "height": 851
        },
        "id": "H6i8K-FIQVBe",
        "outputId": "2cbf5026-373b-4e40-b494-944a42e8bbe6"
      },
      "execution_count": null,
      "outputs": [
        {
          "output_type": "display_data",
          "data": {
            "text/plain": [
              "<Figure size 432x288 with 1 Axes>"
            ],
            "image/png": "[encoded data removed]"
          },
          "metadata": {
            "needs_background": "light"
          }
        },
        {
          "output_type": "display_data",
          "data": {
            "text/plain": [
              "<Figure size 432x288 with 1 Axes>"
            ],
            "image/png": "[encoded data removed]"
          },
          "metadata": {
            "needs_background": "light"
          }
        },
        {
          "output_type": "display_data",
          "data": {
            "text/plain": [
              "<Figure size 432x288 with 1 Axes>"
            ],
            "image/png": "[encoded data removed]"
          },
          "metadata": {
            "needs_background": "light"
          }
        }
      ]
    },
    {
      "cell_type": "markdown",
      "source": [
        "#F-Score and Confsuion MATRIX"
      ],
      "metadata": {
        "id": "V_Pyxj7pGRzA"
      }
    },
    {
      "cell_type": "code",
      "source": [
        "testy = my_generator.flow_from_directory(\n",
        "        directory='/content/drive/MyDrive/Data/test',\n",
        "        target_size=(150, 150),\n",
        "        batch_size=16474,\n",
        "        class_mode='sparse')\n"
      ],
      "metadata": {
        "colab": {
          "base_uri": "https://localhost:8080/"
        },
        "id": "p1-4jYNq7y-x",
        "outputId": "ea49074a-b5d8-4001-9238-f5b86198c02c"
      },
      "execution_count": null,
      "outputs": [
        {
          "output_type": "stream",
          "name": "stdout",
          "text": [
            "Found 3712 images belonging to 104 classes.\n"
          ]
        }
      ]
    },
    {
      "cell_type": "code",
      "source": [
        "for X_test, Y_test in testy:\n",
        "   break"
      ],
      "metadata": {
        "id": "xjzupqhW8ACk"
      },
      "execution_count": null,
      "outputs": []
    },
    {
      "cell_type": "code",
      "source": [
        "#F-score"
      ],
      "metadata": {
        "id": "Sn-ie341y_-b"
      },
      "execution_count": null,
      "outputs": []
    },
    {
      "cell_type": "code",
      "source": [
        "from sklearn.metrics import f1_score\n",
        "y_true=testy.classes\n",
        "y_pred=predictions\n",
        "y_classes=[np.argmax(CLASSES) for CLASSES in y_pred]\n",
        "f1_score(y_true, y_classes, average='macro')"
      ],
      "metadata": {
        "colab": {
          "base_uri": "https://localhost:8080/"
        },
        "id": "oz9l-gXc89CI",
        "outputId": "04337adb-aab1-4836-8f92-341e2b336d38"
      },
      "execution_count": null,
      "outputs": [
        {
          "output_type": "execute_result",
          "data": {
            "text/plain": [
              "0.00462125308312378"
            ]
          },
          "metadata": {},
          "execution_count": 29
        }
      ]
    },
    {
      "cell_type": "code",
      "source": [
        "#Confusion Matrix"
      ],
      "metadata": {
        "id": "W5GsE5YK-g-8"
      },
      "execution_count": null,
      "outputs": []
    },
    {
      "cell_type": "code",
      "source": [],
      "metadata": {
        "id": "tGnpfWFf-Sk_"
      },
      "execution_count": null,
      "outputs": []
    },
    {
      "cell_type": "code",
      "source": [],
      "metadata": {
        "id": "BQjCL-ww_8GA"
      },
      "execution_count": null,
      "outputs": []
    },
    {
      "cell_type": "code",
      "source": [],
      "metadata": {
        "id": "1whuGe1_ALhn"
      },
      "execution_count": null,
      "outputs": []
    },
    {
      "cell_type": "code",
      "source": [
        "\n"
      ],
      "metadata": {
        "id": "jFGwMrNkC6te"
      },
      "execution_count": null,
      "outputs": []
    },
    {
      "cell_type": "code",
      "source": [],
      "metadata": {
        "id": "xtPosFc8-g01"
      },
      "execution_count": null,
      "outputs": []
    }
  ]
}