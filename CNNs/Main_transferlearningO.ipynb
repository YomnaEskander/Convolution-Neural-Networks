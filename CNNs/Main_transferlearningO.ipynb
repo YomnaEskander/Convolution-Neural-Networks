{
  "cells": [
    {
      "cell_type": "code",
      "execution_count": 1,
      "metadata": {
        "id": "fPfimVXRUqtj"
      },
      "outputs": [],
      "source": [
        "from tensorflow.keras.preprocessing.image import ImageDataGenerator\n",
        "from tensorflow.keras.models import Model , load_model\n",
        "from tensorflow.keras.layers import Input,Average\n",
        "import numpy as np\n",
        "import tensorflow as tf\n",
        "from tensorflow import keras\n",
        "my_generator= ImageDataGenerator(rescale=1./255, validation_split=0.1) #rescaled the images\n",
        "import pandas as pd\n",
        "import numpy as np\n",
        "import tensorflow as tf\n",
        "from tensorflow.keras import datasets, layers, models\n",
        "from keras.layers import Concatenate,MaxPool2D\n",
        "from keras.models import Model\n",
        "from keras.layers import Input, Dense, Conv2D,Flatten,Dropout,AvgPool2D\n",
        "import os\n",
        "import cv2\n",
        "import keras\n",
        "from  matplotlib import pyplot as plt\n",
        "import matplotlib.image as mpimg\n",
        "%matplotlib inline\n",
        "import random\n",
        "from tensorflow.keras.preprocessing.image import ImageDataGenerator"
      ]
    },
    {
      "cell_type": "code",
      "execution_count": 4,
      "metadata": {
        "colab": {
          "base_uri": "https://localhost:8080/"
        },
        "id": "p2UkID3xUjzr",
        "outputId": "69859e85-708f-4b7a-eb01-e13f106cffbc"
      },
      "outputs": [
        {
          "output_type": "stream",
          "name": "stdout",
          "text": [
            "Found 11524 images belonging to 104 classes.\n",
            "Found 1229 images belonging to 104 classes.\n",
            "Found 3712 images belonging to 104 classes.\n"
          ]
        }
      ],
      "source": [
        "image_train = my_generator.flow_from_directory('/content/drive/MyDrive/Data/train', #this is the image generator next we need to read the data from it\n",
        "        target_size=(150, 150),\n",
        "        batch_size=32,\n",
        "        class_mode='sparse',\n",
        "        subset=\"training\") #does not fully load the data into the memory instead it created a channel  \n",
        "validation_image= my_generator.flow_from_directory('/content/drive/MyDrive/Data/train',\n",
        "        target_size=(150, 150),\n",
        "        batch_size=32,\n",
        "        subset=\"validation\",\n",
        "        class_mode='sparse' )\n",
        "test = my_generator.flow_from_directory(\n",
        "        directory='/content/drive/MyDrive/Data/test',\n",
        "        target_size=(150, 150),\n",
        "        class_mode='sparse')"
      ]
    },
    {
      "cell_type": "code",
      "execution_count": 5,
      "metadata": {
        "id": "C7HUGtFiKU8w",
        "colab": {
          "base_uri": "https://localhost:8080/"
        },
        "outputId": "3ce98090-17d2-4d9d-a3ee-d965719f5d22"
      },
      "outputs": [
        {
          "output_type": "stream",
          "name": "stdout",
          "text": [
            "Downloading data from https://storage.googleapis.com/tensorflow/keras-applications/xception/xception_weights_tf_dim_ordering_tf_kernels_notop.h5\n",
            "83683744/83683744 [==============================] - 3s 0us/step\n"
          ]
        }
      ],
      "source": [
        "base_model = keras.applications.Xception(\n",
        "    weights=\"imagenet\",  # Load weights pre-trained on ImageNet.\n",
        "    input_shape=(150, 150, 3),\n",
        "    include_top=False,\n",
        ") \n",
        "base_model.trainable = False"
      ]
    },
    {
      "cell_type": "code",
      "execution_count": 6,
      "metadata": {
        "id": "L9r7dIO8Npr9"
      },
      "outputs": [],
      "source": [
        "m=load_model('/content/drive/MyDrive/SimpleCNNBETTER')"
      ]
    },
    {
      "cell_type": "code",
      "execution_count": 10,
      "metadata": {
        "id": "XWsjHEwhOsTV"
      },
      "outputs": [],
      "source": [
        "T = m.input"
      ]
    },
    {
      "cell_type": "code",
      "execution_count": 11,
      "metadata": {
        "colab": {
          "base_uri": "https://localhost:8080/"
        },
        "id": "VM-dbX-eKrms",
        "outputId": "e0edf262-ebe0-496f-a953-c4d5c32c1c3a"
      },
      "outputs": [
        {
          "output_type": "stream",
          "name": "stdout",
          "text": [
            "Model: \"model\"\n",
            "_________________________________________________________________\n",
            " Layer (type)                Output Shape              Param #   \n",
            "=================================================================\n",
            " conv2d_input (InputLayer)   [(None, 150, 150, 3)]     0         \n",
            "                                                                 \n",
            " xception (Functional)       (None, 5, 5, 2048)        20861480  \n",
            "                                                                 \n",
            " global_average_pooling2d (G  (None, 2048)             0         \n",
            " lobalAveragePooling2D)                                          \n",
            "                                                                 \n",
            " dropout (Dropout)           (None, 2048)              0         \n",
            "                                                                 \n",
            " dense (Dense)               (None, 1)                 2049      \n",
            "                                                                 \n",
            "=================================================================\n",
            "Total params: 20,863,529\n",
            "Trainable params: 2,049\n",
            "Non-trainable params: 20,861,480\n",
            "_________________________________________________________________\n"
          ]
        }
      ],
      "source": [
        "x = base_model(T, training=False)\n",
        "x = keras.layers.GlobalAveragePooling2D()(x)\n",
        "x = keras.layers.Dropout(0.2)(x)  # Regularize with dropout\n",
        "outputs = keras.layers.Dense(1)(x)\n",
        "model = keras.Model(T, outputs)\n",
        "model.summary()"
      ]
    },
    {
      "cell_type": "code",
      "execution_count": 12,
      "metadata": {
        "id": "-BJwYDbFK4N8",
        "colab": {
          "base_uri": "https://localhost:8080/"
        },
        "outputId": "3377a2ae-ca10-4359-a3f9-444d6f525d78"
      },
      "outputs": [
        {
          "output_type": "stream",
          "name": "stderr",
          "text": [
            "/usr/local/lib/python3.7/dist-packages/keras/optimizers/optimizer_v2/adam.py:110: UserWarning: The `lr` argument is deprecated, use `learning_rate` instead.\n",
            "  super(Adam, self).__init__(name, **kwargs)\n",
            "/usr/local/lib/python3.7/dist-packages/ipykernel_launcher.py:4: UserWarning: `Model.fit_generator` is deprecated and will be removed in a future version. Please use `Model.fit`, which supports generators.\n",
            "  after removing the cwd from sys.path.\n"
          ]
        },
        {
          "output_type": "stream",
          "name": "stdout",
          "text": [
            "Epoch 1/15\n"
          ]
        },
        {
          "output_type": "stream",
          "name": "stderr",
          "text": [
            "/usr/local/lib/python3.7/dist-packages/tensorflow/python/util/dispatch.py:1082: UserWarning: \"`sparse_categorical_crossentropy` received `from_logits=True`, but the `output` argument was produced by a sigmoid or softmax activation and thus does not represent logits. Was this intended?\"\n",
            "  return dispatch_target(*args, **kwargs)\n"
          ]
        },
        {
          "output_type": "stream",
          "name": "stdout",
          "text": [
            "361/361 [==============================] - 3932s 11s/step - loss: 3.7511 - accuracy: 0.1089 - val_loss: 3.7116 - val_accuracy: 0.1302\n",
            "Epoch 2/15\n",
            "361/361 [==============================] - 49s 135ms/step - loss: 3.7303 - accuracy: 0.1059 - val_loss: 3.6915 - val_accuracy: 0.1294\n",
            "Epoch 3/15\n",
            "361/361 [==============================] - 49s 134ms/step - loss: 3.7050 - accuracy: 0.1159 - val_loss: 3.6694 - val_accuracy: 0.1253\n",
            "Epoch 4/15\n",
            "361/361 [==============================] - 49s 135ms/step - loss: 3.6750 - accuracy: 0.1138 - val_loss: 3.6897 - val_accuracy: 0.1400\n",
            "Epoch 5/15\n",
            "361/361 [==============================] - 48s 133ms/step - loss: 3.6331 - accuracy: 0.1221 - val_loss: 3.6520 - val_accuracy: 0.1448\n",
            "Epoch 6/15\n",
            "361/361 [==============================] - 48s 133ms/step - loss: 3.6093 - accuracy: 0.1240 - val_loss: 3.6235 - val_accuracy: 0.1432\n",
            "Epoch 7/15\n",
            "361/361 [==============================] - 48s 133ms/step - loss: 3.5797 - accuracy: 0.1214 - val_loss: 3.6179 - val_accuracy: 0.1375\n",
            "Epoch 8/15\n",
            "361/361 [==============================] - 48s 134ms/step - loss: 3.5552 - accuracy: 0.1277 - val_loss: 3.6136 - val_accuracy: 0.1440\n",
            "Epoch 9/15\n",
            "361/361 [==============================] - 48s 133ms/step - loss: 3.5286 - accuracy: 0.1302 - val_loss: 3.5813 - val_accuracy: 0.1448\n",
            "Epoch 10/15\n",
            "361/361 [==============================] - 49s 135ms/step - loss: 3.4995 - accuracy: 0.1392 - val_loss: 3.5786 - val_accuracy: 0.1489\n",
            "Epoch 11/15\n",
            "361/361 [==============================] - 48s 133ms/step - loss: 3.4808 - accuracy: 0.1427 - val_loss: 3.5545 - val_accuracy: 0.1595\n",
            "Epoch 12/15\n",
            "361/361 [==============================] - 48s 134ms/step - loss: 3.4549 - accuracy: 0.1449 - val_loss: 3.5957 - val_accuracy: 0.1562\n",
            "Epoch 13/15\n",
            "361/361 [==============================] - 48s 132ms/step - loss: 3.4344 - accuracy: 0.1415 - val_loss: 3.5582 - val_accuracy: 0.1530\n",
            "Epoch 14/15\n",
            "361/361 [==============================] - 48s 134ms/step - loss: 3.4095 - accuracy: 0.1525 - val_loss: 3.5265 - val_accuracy: 0.1579\n",
            "Epoch 15/15\n",
            "361/361 [==============================] - 49s 134ms/step - loss: 3.3890 - accuracy: 0.1503 - val_loss: 3.5287 - val_accuracy: 0.1684\n"
          ]
        }
      ],
      "source": [
        "from keras.optimizers import Adam\n",
        "opt = Adam(lr=0.0001)\n",
        "model.compile(optimizer=opt, loss=keras.losses.SparseCategoricalCrossentropy(), metrics=['accuracy'])\n",
        "hist = m.fit_generator(generator=image_train, validation_data= validation_image,epochs=15)"
      ]
    },
    {
      "cell_type": "code",
      "source": [
        "transferLearning= model.save('/content/drive/MyDrive/TransferLearning')"
      ],
      "metadata": {
        "colab": {
          "base_uri": "https://localhost:8080/"
        },
        "id": "06rLLYj7t03c",
        "outputId": "d51bd290-fa3b-4de4-ff98-b5a64c60f9ea"
      },
      "execution_count": 15,
      "outputs": [
        {
          "output_type": "stream",
          "name": "stderr",
          "text": [
            "WARNING:absl:Found untraced functions such as _jit_compiled_convolution_op, _jit_compiled_convolution_op, _jit_compiled_convolution_op, _jit_compiled_convolution_op, _jit_compiled_convolution_op while saving (showing 5 of 40). These functions will not be directly callable after loading.\n"
          ]
        }
      ]
    },
    {
      "cell_type": "code",
      "source": [
        "score = model.evaluate(test, verbose=0)\n",
        "print('Test loss:', score[0])\n",
        "print('Test accuracy:', score[1])"
      ],
      "metadata": {
        "colab": {
          "base_uri": "https://localhost:8080/"
        },
        "id": "IlY5vI6fiylU",
        "outputId": "6e9ed617-e014-4e1f-d7d9-8d5cfcc9998a"
      },
      "execution_count": 14,
      "outputs": [
        {
          "output_type": "stream",
          "name": "stdout",
          "text": [
            "Test loss: nan\n",
            "Test accuracy: 0.01778017170727253\n"
          ]
        }
      ]
    },
    {
      "cell_type": "code",
      "source": [
        "# Generate predictions (probabilities -- the output of the last layer)\n",
        "# on new data using `predict`\n",
        "print(\"Generate predictions for 32 samples\")\n",
        "predictions = model.predict(test)\n",
        "print(\"predictions shape:\", predictions.shape)\n",
        "\n",
        "testy = my_generator.flow_from_directory(\n",
        "        directory='/content/drive/MyDrive/Data/test',\n",
        "        target_size=(150, 150),\n",
        "        batch_size=16474,\n",
        "        class_mode='sparse')\n"
      ],
      "metadata": {
        "colab": {
          "base_uri": "https://localhost:8080/"
        },
        "id": "JrTfJobLZCnl",
        "outputId": "c42baaa5-0647-4727-a329-cf48f3293fae"
      },
      "execution_count": 16,
      "outputs": [
        {
          "output_type": "stream",
          "name": "stdout",
          "text": [
            "Generate predictions for 32 samples\n",
            "116/116 [==============================] - 15s 127ms/step\n",
            "predictions shape: (3712, 1)\n",
            "Found 3712 images belonging to 104 classes.\n"
          ]
        }
      ]
    },
    {
      "cell_type": "code",
      "source": [
        "plt.plot(hist.history['loss'])\n",
        "plt.plot(hist.history['val_loss'])\n",
        "plt.title(\"model accuracy\")\n",
        "plt.ylabel(\"loss\")\n",
        "plt.xlabel(\"Epoch\")\n",
        "plt.legend([\"Accuracy\",\"Validation Accuracy\",\"loss\",\"Validation Loss\"])\n",
        "plt.show()\n",
        "####################################\n",
        "plt.plot(hist.history[\"accuracy\"])\n",
        "plt.plot(hist.history['val_accuracy'])\n",
        "plt.plot(hist.history['loss'])\n",
        "plt.plot(hist.history['val_loss'])\n",
        "plt.title(\"model accuracy\")\n",
        "plt.ylabel(\"Accuracy\")\n",
        "plt.xlabel(\"Epoch\")\n",
        "plt.legend([\"Accuracy\",\"Validation Accuracy\",\"loss\",\"Validation Loss\"])\n",
        "plt.show()\n",
        "##############################\n",
        "plt.plot(hist.history[\"accuracy\"])\n",
        "plt.plot(hist.history['val_accuracy'])\n",
        "plt.title(\"model accuracy\")\n",
        "plt.ylabel(\"Accuracy\")\n",
        "plt.xlabel(\"Epoch\")\n",
        "plt.legend([\"Accuracy\",\"Validation Accuracy\"])\n",
        "plt.show()"
      ],
      "metadata": {
        "colab": {
          "base_uri": "https://localhost:8080/",
          "height": 851
        },
        "id": "YbefWtEJhmaO",
        "outputId": "595b84ae-7c79-40bd-eee3-f05feb38fc55"
      },
      "execution_count": 17,
      "outputs": [
        {
          "output_type": "display_data",
          "data": {
            "text/plain": [
              "<Figure size 432x288 with 1 Axes>"
            ],
            "image/png": "[encoded data removed]"
          },
          "metadata": {
            "needs_background": "light"
          }
        },
        {
          "output_type": "display_data",
          "data": {
            "text/plain": [
              "<Figure size 432x288 with 1 Axes>"
            ],
            "image/png": "[encoded data removed]"
          },
          "metadata": {
            "needs_background": "light"
          }
        },
        {
          "output_type": "display_data",
          "data": {
            "text/plain": [
              "<Figure size 432x288 with 1 Axes>"
            ],
            "image/png": "[encoded data removed]"
          },
          "metadata": {
            "needs_background": "light"
          }
        }
      ]
    },
    {
      "cell_type": "code",
      "source": [
        "testy = my_generator.flow_from_directory(\n",
        "        directory='/content/drive/MyDrive/Data/test',\n",
        "        target_size=(150, 150),\n",
        "        batch_size=16474,\n",
        "        class_mode='sparse')\n",
        "\n",
        "\n",
        "for X_test, Y_test in testy:\n",
        "   break"
      ],
      "metadata": {
        "colab": {
          "base_uri": "https://localhost:8080/"
        },
        "id": "44tlrMcGhmYD",
        "outputId": "3bf7eb8f-df9a-4ccd-9df5-48a3f202f047"
      },
      "execution_count": 18,
      "outputs": [
        {
          "output_type": "stream",
          "name": "stdout",
          "text": [
            "Found 3712 images belonging to 104 classes.\n"
          ]
        }
      ]
    },
    {
      "cell_type": "code",
      "source": [
        "from sklearn.metrics import f1_score\n",
        "y_true=testy.classes\n",
        "y_pred=predictions\n",
        "y_classes=[np.argmax(CLASSES) for CLASSES in y_pred]\n",
        "f1_score(y_true, y_classes, average='macro')\n"
      ],
      "metadata": {
        "colab": {
          "base_uri": "https://localhost:8080/"
        },
        "id": "6B9GVtvQhmSr",
        "outputId": "d79ace44-c032-429c-c656-8e0d8a6475bd"
      },
      "execution_count": 19,
      "outputs": [
        {
          "output_type": "execute_result",
          "data": {
            "text/plain": [
              "0.00040074670778970434"
            ]
          },
          "metadata": {},
          "execution_count": 19
        }
      ]
    },
    {
      "cell_type": "code",
      "source": [],
      "metadata": {
        "id": "4sWgzmGsxNk8"
      },
      "execution_count": null,
      "outputs": []
    }
  ],
  "metadata": {
    "accelerator": "GPU",
    "colab": {
      "provenance": []
    },
    "gpuClass": "standard",
    "kernelspec": {
      "display_name": "Python 3",
      "name": "python3"
    },
    "language_info": {
      "name": "python"
    }
  },
  "nbformat": 4,
  "nbformat_minor": 0
}