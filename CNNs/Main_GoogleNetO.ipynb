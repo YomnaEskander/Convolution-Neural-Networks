{
  "nbformat": 4,
  "nbformat_minor": 0,
  "metadata": {
    "colab": {
      "provenance": []
    },
    "kernelspec": {
      "name": "python3",
      "display_name": "Python 3"
    },
    "language_info": {
      "name": "python"
    },
    "gpuClass": "standard"
  },
  "cells": [
    {
      "cell_type": "code",
      "execution_count": 17,
      "metadata": {
        "id": "OBKP9Ta_zlyH"
      },
      "outputs": [],
      "source": [
        "import pandas as pd\n",
        "import numpy as np\n",
        "import tensorflow as tf\n",
        "from tensorflow.keras import datasets, layers, models\n",
        "from keras.layers import Concatenate,MaxPool2D\n",
        "from keras.models import Model\n",
        "from keras.layers import Input, Dense, Conv2D,Flatten,Dropout,AvgPool2D\n",
        "import os\n",
        "import cv2\n",
        "import keras\n",
        "from  matplotlib import pyplot as plt\n",
        "import matplotlib.image as mpimg\n",
        "%matplotlib inline\n",
        "import random\n",
        "from tensorflow.keras.preprocessing.image import ImageDataGenerator"
      ]
    },
    {
      "cell_type": "code",
      "source": [
        "from google.colab import drive\n",
        "drive.mount('/content/drive')"
      ],
      "metadata": {
        "colab": {
          "base_uri": "https://localhost:8080/"
        },
        "id": "IYmxv4gSQPRk",
        "outputId": "ec24efb8-0fc4-4342-dac8-9899a9e20c5f"
      },
      "execution_count": 16,
      "outputs": [
        {
          "output_type": "stream",
          "name": "stdout",
          "text": [
            "Drive already mounted at /content/drive; to attempt to forcibly remount, call drive.mount(\"/content/drive\", force_remount=True).\n"
          ]
        }
      ]
    },
    {
      "cell_type": "code",
      "source": [
        "CLASSES = ['pink primrose',    'hard-leaved pocket orchid', 'canterbury bells', 'sweet pea',     'wild geranium',     'tiger lily',           'moon orchid',              'bird of paradise', 'monkshood',        'globe thistle',         # 00 - 09\n",
        "           'snapdragon',       \"colt's foot\",               'king protea',      'spear thistle', 'yellow iris',       'globe-flower',         'purple coneflower',        'peruvian lily',    'balloon flower',   'giant white arum lily', # 10 - 19\n",
        "           'fire lily',        'pincushion flower',         'fritillary',       'red ginger',    'grape hyacinth',    'corn poppy',           'prince of wales feathers', 'stemless gentian', 'artichoke',        'sweet william',         # 20 - 29\n",
        "           'carnation',        'garden phlox',              'love in the mist', 'cosmos',        'alpine sea holly',  'ruby-lipped cattleya', 'cape flower',              'great masterwort', 'siam tulip',       'lenten rose',           # 30 - 39\n",
        "           'barberton daisy',  'daffodil',                  'sword lily',       'poinsettia',    'bolero deep blue',  'wallflower',           'marigold',                 'buttercup',        'daisy',            'common dandelion',      # 40 - 49\n",
        "           'petunia',          'wild pansy',                'primula',          'sunflower',     'lilac hibiscus',    'bishop of llandaff',   'gaura',                    'geranium',         'orange dahlia',    'pink-yellow dahlia',    # 50 - 59\n",
        "           'cautleya spicata', 'japanese anemone',          'black-eyed susan', 'silverbush',    'californian poppy', 'osteospermum',         'spring crocus',            'iris',             'windflower',       'tree poppy',            # 60 - 69\n",
        "           'gazania',          'azalea',                    'water lily',       'rose',          'thorn apple',       'morning glory',        'passion flower',           'lotus',            'toad lily',        'anthurium',             # 70 - 79\n",
        "           'frangipani',       'clematis',                  'hibiscus',         'columbine',     'desert-rose',       'tree mallow',          'magnolia',                 'cyclamen ',        'watercress',       'canna lily',            # 80 - 89\n",
        "           'hippeastrum ',     'bee balm',                  'pink quill',       'foxglove',      'bougainvillea',     'camellia',             'mallow',                   'mexican petunia',  'bromelia',         'blanket flower',        # 90 - 99\n",
        "           'trumpet creeper',  'blackberry lily',           'common tulip',     'wild rose']\n",
        "target_dict={k: v for v, k in enumerate(CLASSES)}\n",
        "target_dict\n",
        "target_val=  [target_dict[CLASSES[i]] for i in range(len(CLASSES))]"
      ],
      "metadata": {
        "id": "Fba4BNFO0GEG"
      },
      "execution_count": 18,
      "outputs": []
    },
    {
      "cell_type": "code",
      "source": [
        "my_generator= ImageDataGenerator(rescale=1./255, validation_split=0.2) #rescaled the images\n"
      ],
      "metadata": {
        "id": "HUCCUsli0PyI"
      },
      "execution_count": 19,
      "outputs": []
    },
    {
      "cell_type": "code",
      "source": [
        "my_image_generator_train = my_generator.flow_from_directory('/content/drive/MyDrive/Data/train', #this is the image generator next we need to read the data from it\n",
        "        target_size=(150, 150),\n",
        "        batch_size=32,\n",
        "        class_mode='sparse',\n",
        "        subset=\"training\") #does not fully load the data into the memory instead it created a channel  \n",
        "validation_image_generator= my_generator.flow_from_directory('/content/drive/MyDrive/Data/train',\n",
        "        target_size=(150, 150),\n",
        "        batch_size=32,\n",
        "        subset=\"validation\",\n",
        "        class_mode='sparse' )"
      ],
      "metadata": {
        "colab": {
          "base_uri": "https://localhost:8080/"
        },
        "id": "rtl-3YWd0T5Z",
        "outputId": "f5f6c452-622d-4359-aba5-6a483f96e6d1"
      },
      "execution_count": 20,
      "outputs": [
        {
          "output_type": "stream",
          "name": "stdout",
          "text": [
            "Found 10243 images belonging to 104 classes.\n",
            "Found 2510 images belonging to 104 classes.\n"
          ]
        }
      ]
    },
    {
      "cell_type": "code",
      "source": [
        "test = my_generator.flow_from_directory(\n",
        "        directory='/content/drive/MyDrive/Data/test',\n",
        "        target_size=(150, 150),\n",
        "        class_mode='sparse')"
      ],
      "metadata": {
        "colab": {
          "base_uri": "https://localhost:8080/"
        },
        "id": "ULVOmNaH0WpX",
        "outputId": "1102515f-cae4-4eed-bf91-0d85db5e6e03"
      },
      "execution_count": 21,
      "outputs": [
        {
          "output_type": "stream",
          "name": "stdout",
          "text": [
            "Found 3712 images belonging to 104 classes.\n"
          ]
        }
      ]
    },
    {
      "cell_type": "code",
      "source": [
        "my_image_generator_train "
      ],
      "metadata": {
        "colab": {
          "base_uri": "https://localhost:8080/"
        },
        "id": "g66QlGHe0bkX",
        "outputId": "4737800d-1245-4a91-9e25-ce5e84aa5fc8"
      },
      "execution_count": 22,
      "outputs": [
        {
          "output_type": "execute_result",
          "data": {
            "text/plain": [
              "<keras.preprocessing.image.DirectoryIterator at 0x7fce0c9d5d10>"
            ]
          },
          "metadata": {},
          "execution_count": 22
        }
      ]
    },
    {
      "cell_type": "code",
      "source": [
        "for batch in test:\n",
        "  x_test,y_test = batch\n",
        "  print ( y_test )\n",
        "  break"
      ],
      "metadata": {
        "id": "25e8agaBEA8T",
        "colab": {
          "base_uri": "https://localhost:8080/"
        },
        "outputId": "aea7dbf9-79d9-4944-abb5-c5e67a41971f"
      },
      "execution_count": 23,
      "outputs": [
        {
          "output_type": "stream",
          "name": "stdout",
          "text": [
            "[44. 84. 75. 88.  5.  9. 78. 22. 74.  6. 68. 62. 82. 14.  5.  5. 68. 47.\n",
            " 38. 93. 74. 68. 47. 37. 50. 68. 76. 83. 74. 48.  6.  5.]\n"
          ]
        }
      ]
    },
    {
      "cell_type": "code",
      "source": [
        "def googlenet(input_shape, n_classes):\n",
        "  \n",
        "  def inception_block(x, f):\n",
        "    t1 = Conv2D(f[0], 1, activation='relu')(x)\n",
        "    \n",
        "    t2 = Conv2D(f[1], 1, activation='relu')(x)\n",
        "    t2 = Conv2D(f[2], 3, padding='same', activation='relu')(t2)\n",
        "    \n",
        "    t3 = Conv2D(f[3], 1, activation='relu')(x)\n",
        "    t3 = Conv2D(f[4], 5, padding='same', activation='relu')(t3)\n",
        "    \n",
        "    t4 = MaxPool2D(3, 1, padding='same')(x)\n",
        "    t4 = Conv2D(f[5], 1, activation='relu')(t4)\n",
        "    \n",
        "    output = Concatenate()([t1, t2, t3, t4])\n",
        "    return output\n",
        "  \n",
        "  \n",
        "  input = Input(input_shape)\n",
        "  \n",
        "  x = Conv2D(64, 7, strides=2, padding='same', activation='relu')(input)\n",
        "  x = MaxPool2D(3, strides=2, padding='same')(x)\n",
        "  \n",
        "  x = Conv2D(64, 1, activation='relu')(x)\n",
        "  x = Conv2D(192, 3, padding='same', activation='relu')(x)\n",
        "  x = MaxPool2D(3, strides=2)(x)\n",
        "  \n",
        "  x = inception_block(x, [64, 96, 128, 16, 32, 32])\n",
        "  x = inception_block(x, [128, 128, 192, 32, 96, 64])\n",
        "  x = MaxPool2D(3, strides=2, padding='same')(x)\n",
        "  \n",
        "  x = inception_block(x, [192, 96, 208, 16, 48, 64])\n",
        "  x = inception_block(x, [160, 112, 224, 24, 64, 64])\n",
        "  x = inception_block(x, [128, 128, 256, 24, 64, 64])\n",
        "  x = inception_block(x, [112, 144, 288, 32, 64, 64])\n",
        "  x = inception_block(x, [256, 160, 320, 32, 128, 128])\n",
        "  x = MaxPool2D(3, strides=2, padding='same')(x)\n",
        "\n",
        "  x = inception_block(x, [256, 160, 320, 32, 128, 128])\n",
        "  x = inception_block(x, [384, 192, 384, 48, 128, 128])\n",
        "  x = Dropout(0.4)(x)\n",
        "  \n",
        "  x = Flatten()(x)\n",
        "  output = Dense(n_classes, activation='softmax')(x)\n",
        "  \n",
        "  model = Model(input, output)\n",
        "  return model"
      ],
      "metadata": {
        "id": "54sACCN50m8-"
      },
      "execution_count": 24,
      "outputs": []
    },
    {
      "cell_type": "code",
      "source": [
        "model=googlenet((150,150,3),104)\n",
        "model.summary()"
      ],
      "metadata": {
        "id": "EdBzcwh_0p94",
        "colab": {
          "base_uri": "https://localhost:8080/"
        },
        "outputId": "717d1d19-6fcd-4f34-a0e0-d3d8a1d294a6"
      },
      "execution_count": 25,
      "outputs": [
        {
          "output_type": "stream",
          "name": "stdout",
          "text": [
            "Model: \"model_1\"\n",
            "__________________________________________________________________________________________________\n",
            " Layer (type)                   Output Shape         Param #     Connected to                     \n",
            "==================================================================================================\n",
            " input_2 (InputLayer)           [(None, 150, 150, 3  0           []                               \n",
            "                                )]                                                                \n",
            "                                                                                                  \n",
            " conv2d_57 (Conv2D)             (None, 75, 75, 64)   9472        ['input_2[0][0]']                \n",
            "                                                                                                  \n",
            " max_pooling2d_13 (MaxPooling2D  (None, 38, 38, 64)  0           ['conv2d_57[0][0]']              \n",
            " )                                                                                                \n",
            "                                                                                                  \n",
            " conv2d_58 (Conv2D)             (None, 38, 38, 64)   4160        ['max_pooling2d_13[0][0]']       \n",
            "                                                                                                  \n",
            " conv2d_59 (Conv2D)             (None, 38, 38, 192)  110784      ['conv2d_58[0][0]']              \n",
            "                                                                                                  \n",
            " max_pooling2d_14 (MaxPooling2D  (None, 18, 18, 192)  0          ['conv2d_59[0][0]']              \n",
            " )                                                                                                \n",
            "                                                                                                  \n",
            " conv2d_61 (Conv2D)             (None, 18, 18, 96)   18528       ['max_pooling2d_14[0][0]']       \n",
            "                                                                                                  \n",
            " conv2d_63 (Conv2D)             (None, 18, 18, 16)   3088        ['max_pooling2d_14[0][0]']       \n",
            "                                                                                                  \n",
            " max_pooling2d_15 (MaxPooling2D  (None, 18, 18, 192)  0          ['max_pooling2d_14[0][0]']       \n",
            " )                                                                                                \n",
            "                                                                                                  \n",
            " conv2d_60 (Conv2D)             (None, 18, 18, 64)   12352       ['max_pooling2d_14[0][0]']       \n",
            "                                                                                                  \n",
            " conv2d_62 (Conv2D)             (None, 18, 18, 128)  110720      ['conv2d_61[0][0]']              \n",
            "                                                                                                  \n",
            " conv2d_64 (Conv2D)             (None, 18, 18, 32)   12832       ['conv2d_63[0][0]']              \n",
            "                                                                                                  \n",
            " conv2d_65 (Conv2D)             (None, 18, 18, 32)   6176        ['max_pooling2d_15[0][0]']       \n",
            "                                                                                                  \n",
            " concatenate_9 (Concatenate)    (None, 18, 18, 256)  0           ['conv2d_60[0][0]',              \n",
            "                                                                  'conv2d_62[0][0]',              \n",
            "                                                                  'conv2d_64[0][0]',              \n",
            "                                                                  'conv2d_65[0][0]']              \n",
            "                                                                                                  \n",
            " conv2d_67 (Conv2D)             (None, 18, 18, 128)  32896       ['concatenate_9[0][0]']          \n",
            "                                                                                                  \n",
            " conv2d_69 (Conv2D)             (None, 18, 18, 32)   8224        ['concatenate_9[0][0]']          \n",
            "                                                                                                  \n",
            " max_pooling2d_16 (MaxPooling2D  (None, 18, 18, 256)  0          ['concatenate_9[0][0]']          \n",
            " )                                                                                                \n",
            "                                                                                                  \n",
            " conv2d_66 (Conv2D)             (None, 18, 18, 128)  32896       ['concatenate_9[0][0]']          \n",
            "                                                                                                  \n",
            " conv2d_68 (Conv2D)             (None, 18, 18, 192)  221376      ['conv2d_67[0][0]']              \n",
            "                                                                                                  \n",
            " conv2d_70 (Conv2D)             (None, 18, 18, 96)   76896       ['conv2d_69[0][0]']              \n",
            "                                                                                                  \n",
            " conv2d_71 (Conv2D)             (None, 18, 18, 64)   16448       ['max_pooling2d_16[0][0]']       \n",
            "                                                                                                  \n",
            " concatenate_10 (Concatenate)   (None, 18, 18, 480)  0           ['conv2d_66[0][0]',              \n",
            "                                                                  'conv2d_68[0][0]',              \n",
            "                                                                  'conv2d_70[0][0]',              \n",
            "                                                                  'conv2d_71[0][0]']              \n",
            "                                                                                                  \n",
            " max_pooling2d_17 (MaxPooling2D  (None, 9, 9, 480)   0           ['concatenate_10[0][0]']         \n",
            " )                                                                                                \n",
            "                                                                                                  \n",
            " conv2d_73 (Conv2D)             (None, 9, 9, 96)     46176       ['max_pooling2d_17[0][0]']       \n",
            "                                                                                                  \n",
            " conv2d_75 (Conv2D)             (None, 9, 9, 16)     7696        ['max_pooling2d_17[0][0]']       \n",
            "                                                                                                  \n",
            " max_pooling2d_18 (MaxPooling2D  (None, 9, 9, 480)   0           ['max_pooling2d_17[0][0]']       \n",
            " )                                                                                                \n",
            "                                                                                                  \n",
            " conv2d_72 (Conv2D)             (None, 9, 9, 192)    92352       ['max_pooling2d_17[0][0]']       \n",
            "                                                                                                  \n",
            " conv2d_74 (Conv2D)             (None, 9, 9, 208)    179920      ['conv2d_73[0][0]']              \n",
            "                                                                                                  \n",
            " conv2d_76 (Conv2D)             (None, 9, 9, 48)     19248       ['conv2d_75[0][0]']              \n",
            "                                                                                                  \n",
            " conv2d_77 (Conv2D)             (None, 9, 9, 64)     30784       ['max_pooling2d_18[0][0]']       \n",
            "                                                                                                  \n",
            " concatenate_11 (Concatenate)   (None, 9, 9, 512)    0           ['conv2d_72[0][0]',              \n",
            "                                                                  'conv2d_74[0][0]',              \n",
            "                                                                  'conv2d_76[0][0]',              \n",
            "                                                                  'conv2d_77[0][0]']              \n",
            "                                                                                                  \n",
            " conv2d_79 (Conv2D)             (None, 9, 9, 112)    57456       ['concatenate_11[0][0]']         \n",
            "                                                                                                  \n",
            " conv2d_81 (Conv2D)             (None, 9, 9, 24)     12312       ['concatenate_11[0][0]']         \n",
            "                                                                                                  \n",
            " max_pooling2d_19 (MaxPooling2D  (None, 9, 9, 512)   0           ['concatenate_11[0][0]']         \n",
            " )                                                                                                \n",
            "                                                                                                  \n",
            " conv2d_78 (Conv2D)             (None, 9, 9, 160)    82080       ['concatenate_11[0][0]']         \n",
            "                                                                                                  \n",
            " conv2d_80 (Conv2D)             (None, 9, 9, 224)    226016      ['conv2d_79[0][0]']              \n",
            "                                                                                                  \n",
            " conv2d_82 (Conv2D)             (None, 9, 9, 64)     38464       ['conv2d_81[0][0]']              \n",
            "                                                                                                  \n",
            " conv2d_83 (Conv2D)             (None, 9, 9, 64)     32832       ['max_pooling2d_19[0][0]']       \n",
            "                                                                                                  \n",
            " concatenate_12 (Concatenate)   (None, 9, 9, 512)    0           ['conv2d_78[0][0]',              \n",
            "                                                                  'conv2d_80[0][0]',              \n",
            "                                                                  'conv2d_82[0][0]',              \n",
            "                                                                  'conv2d_83[0][0]']              \n",
            "                                                                                                  \n",
            " conv2d_85 (Conv2D)             (None, 9, 9, 128)    65664       ['concatenate_12[0][0]']         \n",
            "                                                                                                  \n",
            " conv2d_87 (Conv2D)             (None, 9, 9, 24)     12312       ['concatenate_12[0][0]']         \n",
            "                                                                                                  \n",
            " max_pooling2d_20 (MaxPooling2D  (None, 9, 9, 512)   0           ['concatenate_12[0][0]']         \n",
            " )                                                                                                \n",
            "                                                                                                  \n",
            " conv2d_84 (Conv2D)             (None, 9, 9, 128)    65664       ['concatenate_12[0][0]']         \n",
            "                                                                                                  \n",
            " conv2d_86 (Conv2D)             (None, 9, 9, 256)    295168      ['conv2d_85[0][0]']              \n",
            "                                                                                                  \n",
            " conv2d_88 (Conv2D)             (None, 9, 9, 64)     38464       ['conv2d_87[0][0]']              \n",
            "                                                                                                  \n",
            " conv2d_89 (Conv2D)             (None, 9, 9, 64)     32832       ['max_pooling2d_20[0][0]']       \n",
            "                                                                                                  \n",
            " concatenate_13 (Concatenate)   (None, 9, 9, 512)    0           ['conv2d_84[0][0]',              \n",
            "                                                                  'conv2d_86[0][0]',              \n",
            "                                                                  'conv2d_88[0][0]',              \n",
            "                                                                  'conv2d_89[0][0]']              \n",
            "                                                                                                  \n",
            " conv2d_91 (Conv2D)             (None, 9, 9, 144)    73872       ['concatenate_13[0][0]']         \n",
            "                                                                                                  \n",
            " conv2d_93 (Conv2D)             (None, 9, 9, 32)     16416       ['concatenate_13[0][0]']         \n",
            "                                                                                                  \n",
            " max_pooling2d_21 (MaxPooling2D  (None, 9, 9, 512)   0           ['concatenate_13[0][0]']         \n",
            " )                                                                                                \n",
            "                                                                                                  \n",
            " conv2d_90 (Conv2D)             (None, 9, 9, 112)    57456       ['concatenate_13[0][0]']         \n",
            "                                                                                                  \n",
            " conv2d_92 (Conv2D)             (None, 9, 9, 288)    373536      ['conv2d_91[0][0]']              \n",
            "                                                                                                  \n",
            " conv2d_94 (Conv2D)             (None, 9, 9, 64)     51264       ['conv2d_93[0][0]']              \n",
            "                                                                                                  \n",
            " conv2d_95 (Conv2D)             (None, 9, 9, 64)     32832       ['max_pooling2d_21[0][0]']       \n",
            "                                                                                                  \n",
            " concatenate_14 (Concatenate)   (None, 9, 9, 528)    0           ['conv2d_90[0][0]',              \n",
            "                                                                  'conv2d_92[0][0]',              \n",
            "                                                                  'conv2d_94[0][0]',              \n",
            "                                                                  'conv2d_95[0][0]']              \n",
            "                                                                                                  \n",
            " conv2d_97 (Conv2D)             (None, 9, 9, 160)    84640       ['concatenate_14[0][0]']         \n",
            "                                                                                                  \n",
            " conv2d_99 (Conv2D)             (None, 9, 9, 32)     16928       ['concatenate_14[0][0]']         \n",
            "                                                                                                  \n",
            " max_pooling2d_22 (MaxPooling2D  (None, 9, 9, 528)   0           ['concatenate_14[0][0]']         \n",
            " )                                                                                                \n",
            "                                                                                                  \n",
            " conv2d_96 (Conv2D)             (None, 9, 9, 256)    135424      ['concatenate_14[0][0]']         \n",
            "                                                                                                  \n",
            " conv2d_98 (Conv2D)             (None, 9, 9, 320)    461120      ['conv2d_97[0][0]']              \n",
            "                                                                                                  \n",
            " conv2d_100 (Conv2D)            (None, 9, 9, 128)    102528      ['conv2d_99[0][0]']              \n",
            "                                                                                                  \n",
            " conv2d_101 (Conv2D)            (None, 9, 9, 128)    67712       ['max_pooling2d_22[0][0]']       \n",
            "                                                                                                  \n",
            " concatenate_15 (Concatenate)   (None, 9, 9, 832)    0           ['conv2d_96[0][0]',              \n",
            "                                                                  'conv2d_98[0][0]',              \n",
            "                                                                  'conv2d_100[0][0]',             \n",
            "                                                                  'conv2d_101[0][0]']             \n",
            "                                                                                                  \n",
            " max_pooling2d_23 (MaxPooling2D  (None, 5, 5, 832)   0           ['concatenate_15[0][0]']         \n",
            " )                                                                                                \n",
            "                                                                                                  \n",
            " conv2d_103 (Conv2D)            (None, 5, 5, 160)    133280      ['max_pooling2d_23[0][0]']       \n",
            "                                                                                                  \n",
            " conv2d_105 (Conv2D)            (None, 5, 5, 32)     26656       ['max_pooling2d_23[0][0]']       \n",
            "                                                                                                  \n",
            " max_pooling2d_24 (MaxPooling2D  (None, 5, 5, 832)   0           ['max_pooling2d_23[0][0]']       \n",
            " )                                                                                                \n",
            "                                                                                                  \n",
            " conv2d_102 (Conv2D)            (None, 5, 5, 256)    213248      ['max_pooling2d_23[0][0]']       \n",
            "                                                                                                  \n",
            " conv2d_104 (Conv2D)            (None, 5, 5, 320)    461120      ['conv2d_103[0][0]']             \n",
            "                                                                                                  \n",
            " conv2d_106 (Conv2D)            (None, 5, 5, 128)    102528      ['conv2d_105[0][0]']             \n",
            "                                                                                                  \n",
            " conv2d_107 (Conv2D)            (None, 5, 5, 128)    106624      ['max_pooling2d_24[0][0]']       \n",
            "                                                                                                  \n",
            " concatenate_16 (Concatenate)   (None, 5, 5, 832)    0           ['conv2d_102[0][0]',             \n",
            "                                                                  'conv2d_104[0][0]',             \n",
            "                                                                  'conv2d_106[0][0]',             \n",
            "                                                                  'conv2d_107[0][0]']             \n",
            "                                                                                                  \n",
            " conv2d_109 (Conv2D)            (None, 5, 5, 192)    159936      ['concatenate_16[0][0]']         \n",
            "                                                                                                  \n",
            " conv2d_111 (Conv2D)            (None, 5, 5, 48)     39984       ['concatenate_16[0][0]']         \n",
            "                                                                                                  \n",
            " max_pooling2d_25 (MaxPooling2D  (None, 5, 5, 832)   0           ['concatenate_16[0][0]']         \n",
            " )                                                                                                \n",
            "                                                                                                  \n",
            " conv2d_108 (Conv2D)            (None, 5, 5, 384)    319872      ['concatenate_16[0][0]']         \n",
            "                                                                                                  \n",
            " conv2d_110 (Conv2D)            (None, 5, 5, 384)    663936      ['conv2d_109[0][0]']             \n",
            "                                                                                                  \n",
            " conv2d_112 (Conv2D)            (None, 5, 5, 128)    153728      ['conv2d_111[0][0]']             \n",
            "                                                                                                  \n",
            " conv2d_113 (Conv2D)            (None, 5, 5, 128)    106624      ['max_pooling2d_25[0][0]']       \n",
            "                                                                                                  \n",
            " concatenate_17 (Concatenate)   (None, 5, 5, 1024)   0           ['conv2d_108[0][0]',             \n",
            "                                                                  'conv2d_110[0][0]',             \n",
            "                                                                  'conv2d_112[0][0]',             \n",
            "                                                                  'conv2d_113[0][0]']             \n",
            "                                                                                                  \n",
            " dropout_1 (Dropout)            (None, 5, 5, 1024)   0           ['concatenate_17[0][0]']         \n",
            "                                                                                                  \n",
            " flatten_1 (Flatten)            (None, 25600)        0           ['dropout_1[0][0]']              \n",
            "                                                                                                  \n",
            " dense_1 (Dense)                (None, 104)          2662504     ['flatten_1[0][0]']              \n",
            "                                                                                                  \n",
            "==================================================================================================\n",
            "Total params: 8,636,056\n",
            "Trainable params: 8,636,056\n",
            "Non-trainable params: 0\n",
            "__________________________________________________________________________________________________\n"
          ]
        }
      ]
    },
    {
      "cell_type": "code",
      "source": [
        "from keras.optimizers import Adam\n",
        "OP= Adam(lr=0.0001)\n",
        "model.compile(optimizer=OP, loss=keras.losses.SparseCategoricalCrossentropy(), metrics=['accuracy'])"
      ],
      "metadata": {
        "id": "pqz_1f6R0v4K",
        "colab": {
          "base_uri": "https://localhost:8080/"
        },
        "outputId": "22e14878-c640-482c-a868-ff24d9b5c0fc"
      },
      "execution_count": 26,
      "outputs": [
        {
          "output_type": "stream",
          "name": "stderr",
          "text": [
            "/usr/local/lib/python3.7/dist-packages/keras/optimizers/optimizer_v2/adam.py:110: UserWarning: The `lr` argument is deprecated, use `learning_rate` instead.\n",
            "  super(Adam, self).__init__(name, **kwargs)\n"
          ]
        }
      ]
    },
    {
      "cell_type": "code",
      "source": [
        "from keras.callbacks import ModelCheckpoint, EarlyStopping\n",
        "#call_backs= ModelCheckpoint(\"f/content/drive/MyDrive/GoogleNet_1.h5\", monitor='val_acc', verbose=1, save_best_only=True, save_weights_only=False, mode='auto', period=1)\n",
        "#early = EarlyStopping(monitor='`val_acc', min_delta=0, patience=20, verbose=1, mode='auto')\n",
        "hist = model.fit(my_image_generator_train ,validation_data= validation_image_generator, epochs=10)"
      ],
      "metadata": {
        "id": "G-feOz6B0zql",
        "colab": {
          "base_uri": "https://localhost:8080/"
        },
        "outputId": "80962631-aeb4-40f4-8e03-7008f6a3f422"
      },
      "execution_count": null,
      "outputs": [
        {
          "output_type": "stream",
          "name": "stdout",
          "text": [
            "Epoch 1/10\n",
            "321/321 [==============================] - 1911s 6s/step - loss: 4.0692 - accuracy: 0.0716 - val_loss: 3.7771 - val_accuracy: 0.1044\n",
            "Epoch 2/10\n",
            "321/321 [==============================] - 1510s 5s/step - loss: 3.6872 - accuracy: 0.1296 - val_loss: 3.5439 - val_accuracy: 0.1406\n",
            "Epoch 3/10\n",
            "321/321 [==============================] - 1509s 5s/step - loss: 3.2065 - accuracy: 0.1939 - val_loss: 2.9551 - val_accuracy: 0.2147\n",
            "Epoch 4/10\n",
            "321/321 [==============================] - 1508s 5s/step - loss: 2.9595 - accuracy: 0.2298 - val_loss: 2.8917 - val_accuracy: 0.2363\n",
            "Epoch 5/10\n",
            "321/321 [==============================] - 1521s 5s/step - loss: 2.7844 - accuracy: 0.2554 - val_loss: 2.6867 - val_accuracy: 0.2801\n",
            "Epoch 6/10\n",
            "321/321 [==============================] - 1512s 5s/step - loss: 2.6191 - accuracy: 0.2878 - val_loss: 2.6928 - val_accuracy: 0.2789\n",
            "Epoch 7/10\n",
            "321/321 [==============================] - 1491s 5s/step - loss: 2.4630 - accuracy: 0.3206 - val_loss: 2.5314 - val_accuracy: 0.3131\n",
            "Epoch 8/10\n",
            "321/321 [==============================] - 1501s 5s/step - loss: 2.3553 - accuracy: 0.3421 - val_loss: 2.3815 - val_accuracy: 0.3681\n",
            "Epoch 9/10\n",
            "241/321 [=====================>........] - ETA: 5:55 - loss: 2.2109 - accuracy: 0.3742"
          ]
        }
      ]
    },
    {
      "cell_type": "code",
      "source": [
        "googlenet= model.save('/content/drive/MyDrive/googlenet3')"
      ],
      "metadata": {
        "id": "967KZJZPaLEy",
        "colab": {
          "base_uri": "https://localhost:8080/"
        },
        "outputId": "83973bbc-330c-4329-eb62-55844629942b"
      },
      "execution_count": null,
      "outputs": [
        {
          "output_type": "stream",
          "name": "stderr",
          "text": [
            "WARNING:absl:Found untraced functions such as _jit_compiled_convolution_op, _jit_compiled_convolution_op, _jit_compiled_convolution_op, _jit_compiled_convolution_op, _jit_compiled_convolution_op while saving (showing 5 of 57). These functions will not be directly callable after loading.\n"
          ]
        }
      ]
    },
    {
      "cell_type": "markdown",
      "source": [
        "##Evaluation"
      ],
      "metadata": {
        "id": "6cQapVNS3Fyj"
      }
    },
    {
      "cell_type": "code",
      "source": [
        "score = model.evaluate(test, verbose=0)\n",
        "print('Test loss:', score[0])\n",
        "print('Test accuracy:', score[1])"
      ],
      "metadata": {
        "id": "oC1uUuVh2NOq",
        "colab": {
          "base_uri": "https://localhost:8080/"
        },
        "outputId": "3f39f18e-fbc8-4138-9eee-a37efcaed549"
      },
      "execution_count": null,
      "outputs": [
        {
          "output_type": "stream",
          "name": "stdout",
          "text": [
            "Test loss: 4.6445770263671875\n",
            "Test accuracy: 0.0\n"
          ]
        }
      ]
    },
    {
      "cell_type": "code",
      "source": [],
      "metadata": {
        "id": "HrT6I8Z_UP9g"
      },
      "execution_count": null,
      "outputs": []
    },
    {
      "cell_type": "code",
      "source": [],
      "metadata": {
        "id": "vUHENKMuUVd9"
      },
      "execution_count": null,
      "outputs": []
    },
    {
      "cell_type": "code",
      "source": [
        "# Evaluate the model on the test data using `evaluate`\n",
        "print(\"Evaluate on test data\")\n",
        "results = model.evaluate(test, batch_size=32)\n",
        "print(\"test loss, test acc:\", results)\n",
        "print(f'Test loss: {score[0]} / Test accuracy: {score[1]}')"
      ],
      "metadata": {
        "id": "R9g_0lGY29Cy",
        "colab": {
          "base_uri": "https://localhost:8080/"
        },
        "outputId": "f3f68580-6b77-40aa-f9f1-f1a8fdb863a5"
      },
      "execution_count": null,
      "outputs": [
        {
          "output_type": "stream",
          "name": "stdout",
          "text": [
            "Evaluate on test data\n",
            "116/116 [==============================] - 120s 1s/step - loss: 4.6446 - accuracy: 0.0000e+00\n",
            "test loss, test acc: [4.644576549530029, 0.0]\n",
            "Test loss: 4.6445770263671875 / Test accuracy: 0.0\n"
          ]
        }
      ]
    },
    {
      "cell_type": "code",
      "source": [
        "plt.plot(hist.history[\"accuracy\"])\n",
        "plt.plot(hist.history['val_accuracy'])\n",
        "plt.plot(hist.history['loss'])\n",
        "plt.plot(hist.history['val_loss'])\n",
        "plt.title(\"model accuracy\")\n",
        "plt.ylabel(\"Accuracy\")\n",
        "plt.xlabel(\"Epoch\")\n",
        "plt.legend([\"Accuracy\",\"Validation Accuracy\",\"loss\",\"Validation Loss\"])\n",
        "plt.show()"
      ],
      "metadata": {
        "id": "YtWej6ULbokW"
      },
      "execution_count": null,
      "outputs": []
    },
    {
      "cell_type": "code",
      "source": [
        "\n",
        "plt.plot(hist.history['loss'])\n",
        "plt.plot(hist.history['val_loss'])\n",
        "plt.title(\"model loss\")\n",
        "plt.ylabel(\"loss\")\n",
        "plt.xlabel(\"Epoch\")\n",
        "plt.legend([\"loss\",\"Validation Loss\"])\n",
        "plt.show()"
      ],
      "metadata": {
        "id": "gS0qwiFgbopR"
      },
      "execution_count": null,
      "outputs": []
    },
    {
      "cell_type": "code",
      "source": [
        "plt.plot(hist.history[\"accuracy\"])\n",
        "plt.plot(hist.history['val_accuracy'])\n",
        "plt.title(\"model accuracy\")\n",
        "plt.ylabel(\"Accuracy\")\n",
        "plt.xlabel(\"Epoch\")\n",
        "plt.legend([\"Accuracy\",\"Validation Accuracy\"])\n",
        "plt.show()"
      ],
      "metadata": {
        "id": "xAyYlmDmbp3G"
      },
      "execution_count": null,
      "outputs": []
    },
    {
      "cell_type": "code",
      "source": [],
      "metadata": {
        "id": "oQeS2B6uN7bE"
      },
      "execution_count": null,
      "outputs": []
    },
    {
      "cell_type": "code",
      "source": [],
      "metadata": {
        "id": "GELA8xAzN7iy"
      },
      "execution_count": null,
      "outputs": []
    },
    {
      "cell_type": "code",
      "source": [
        "# Generate predictions (probabilities -- the output of the last layer)\n",
        "# on new data using `predict`\n",
        "print(\"Generate predictions for 3 samples\")\n",
        "predictions = model.predict(test,steps = nb_samples)\n",
        "print(\"predictions shape:\", predictions.shape)"
      ],
      "metadata": {
        "id": "kOJ8RNsY-a3X"
      },
      "execution_count": null,
      "outputs": []
    },
    {
      "cell_type": "code",
      "source": [
        "# Defining function for confusion matrix plot\n",
        "def plot_confusion_matrix(y_true, y_pred, classes,\n",
        "                          normalize=False,\n",
        "                          title=None,\n",
        "                          cmap=plt.cm.Blues):\n",
        "    if not title:\n",
        "        if normalize:\n",
        "            title = 'Normalized confusion matrix'\n",
        "        else:\n",
        "            title = 'Confusion matrix, without normalization'\n",
        "\n",
        "    # Compute confusion matrix\n",
        "    cm = confusion_matrix(y_true, y_pred)\n",
        "    if normalize:\n",
        "        cm = cm.astype('float') / cm.sum(axis=1)[:, np.newaxis]\n",
        "        print(\"Normalized confusion matrix\")\n",
        "    else:\n",
        "        print('Confusion matrix, without normalization')\n",
        "    print(cm)\n",
        "\n",
        "    # Print Confusion matrix\n",
        "    fig, ax = plt.subplots(figsize=(4, 4))\n",
        "    im = ax.imshow(cm, interpolation='nearest', cmap=cmap)\n",
        "    ax.figure.colorbar(im, ax=ax)\n",
        "    # We want to show all ticks...\n",
        "    ax.set(xticks=np.arange(cm.shape[1]),\n",
        "           yticks=np.arange(cm.shape[0]),\n",
        "           xticklabels=classes, yticklabels=classes,\n",
        "           title=title,\n",
        "           ylabel='True label',\n",
        "           xlabel='Predicted label')"
      ],
      "metadata": {
        "id": "odXAMfoZUQWF"
      },
      "execution_count": null,
      "outputs": []
    },
    {
      "cell_type": "code",
      "source": [
        "# Making prediction\n",
        "testX_arg = np.argmax(testY, axis=1)\n",
        "y_pred = np.argmax(model.predict(testX), axis=1)\n",
        "y_true = np.argmax(testY, axis=1)\n",
        "print(y_pred)\n",
        "print(y_pred.shape)\n",
        "\n",
        "# Plotting the confusion matrix\n",
        "confusion_mtx = confusion_matrix(y_true, y_pred)\n",
        "\n",
        "CLASS_NAMES = [f.name for f in os.scandir(imgPath) if f.is_dir()]\n",
        "class_names = CLASS_NAMES\n",
        "print(class_names)\n",
        "\n",
        "print(\"ypred\\n\", y_pred)\n",
        "print(\"ytrue\", y_true)"
      ],
      "metadata": {
        "id": "NX0Inf-8URyV"
      },
      "execution_count": null,
      "outputs": []
    },
    {
      "cell_type": "code",
      "source": [
        "testy = my_generator.flow_from_directory(\n",
        "        directory='/content/drive/MyDrive/Data/test',\n",
        "        target_size=(150, 150),\n",
        "        batch_size=16474,\n",
        "        class_mode='sparse')\n",
        "\n",
        "\n",
        "for X_test, Y_test in testy:\n",
        "   break"
      ],
      "metadata": {
        "id": "YliEqKnNimRz"
      },
      "execution_count": null,
      "outputs": []
    },
    {
      "cell_type": "code",
      "source": [],
      "metadata": {
        "id": "MDdTrIyYiu0i"
      },
      "execution_count": null,
      "outputs": []
    }
  ]
}